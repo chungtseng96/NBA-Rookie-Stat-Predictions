{
 "cells": [
  {
   "cell_type": "markdown",
   "metadata": {},
   "source": [
    "# Linear Regression"
   ]
  },
  {
   "cell_type": "code",
   "execution_count": 1,
   "metadata": {
    "collapsed": true
   },
   "outputs": [],
   "source": [
    "#Import basic packages\n",
    "import pandas as pd \n",
    "import numpy as np \n",
    "import seaborn as sns\n",
    "import matplotlib.pyplot as plt"
   ]
  },
  {
   "cell_type": "code",
   "execution_count": 3,
   "metadata": {},
   "outputs": [
    {
     "data": {
      "text/html": [
       "<div>\n",
       "<style>\n",
       "    .dataframe thead tr:only-child th {\n",
       "        text-align: right;\n",
       "    }\n",
       "\n",
       "    .dataframe thead th {\n",
       "        text-align: left;\n",
       "    }\n",
       "\n",
       "    .dataframe tbody tr th {\n",
       "        vertical-align: top;\n",
       "    }\n",
       "</style>\n",
       "<table border=\"1\" class=\"dataframe\">\n",
       "  <thead>\n",
       "    <tr style=\"text-align: right;\">\n",
       "      <th></th>\n",
       "      <th>year</th>\n",
       "      <th>Position</th>\n",
       "      <th>G</th>\n",
       "      <th>GS</th>\n",
       "      <th>MP</th>\n",
       "      <th>FG</th>\n",
       "      <th>FGA</th>\n",
       "      <th>FGP</th>\n",
       "      <th>2P</th>\n",
       "      <th>2PA</th>\n",
       "      <th>...</th>\n",
       "      <th>NBA_G</th>\n",
       "      <th>NBA_FGP</th>\n",
       "      <th>NBA_3PP</th>\n",
       "      <th>NBA_FTP</th>\n",
       "      <th>NBA_PTS</th>\n",
       "      <th>NBA_TRB</th>\n",
       "      <th>NBA_AST</th>\n",
       "      <th>NBA_STL</th>\n",
       "      <th>NBA_BLK</th>\n",
       "      <th>NBA_TOV</th>\n",
       "    </tr>\n",
       "    <tr>\n",
       "      <th>Player</th>\n",
       "      <th></th>\n",
       "      <th></th>\n",
       "      <th></th>\n",
       "      <th></th>\n",
       "      <th></th>\n",
       "      <th></th>\n",
       "      <th></th>\n",
       "      <th></th>\n",
       "      <th></th>\n",
       "      <th></th>\n",
       "      <th></th>\n",
       "      <th></th>\n",
       "      <th></th>\n",
       "      <th></th>\n",
       "      <th></th>\n",
       "      <th></th>\n",
       "      <th></th>\n",
       "      <th></th>\n",
       "      <th></th>\n",
       "      <th></th>\n",
       "      <th></th>\n",
       "    </tr>\n",
       "  </thead>\n",
       "  <tbody>\n",
       "    <tr>\n",
       "      <th>Marshall Plumlee</th>\n",
       "      <td>2017</td>\n",
       "      <td>Center</td>\n",
       "      <td>124.0</td>\n",
       "      <td>36.0000</td>\n",
       "      <td>14.30000</td>\n",
       "      <td>1.3</td>\n",
       "      <td>1.9</td>\n",
       "      <td>0.665</td>\n",
       "      <td>1.2</td>\n",
       "      <td>1.9</td>\n",
       "      <td>...</td>\n",
       "      <td>29</td>\n",
       "      <td>0.515</td>\n",
       "      <td>0.283958</td>\n",
       "      <td>0.571</td>\n",
       "      <td>1.9</td>\n",
       "      <td>2.3</td>\n",
       "      <td>0.4</td>\n",
       "      <td>0.137931</td>\n",
       "      <td>0.172414</td>\n",
       "      <td>0.517241</td>\n",
       "    </tr>\n",
       "    <tr>\n",
       "      <th>Chris McCullough</th>\n",
       "      <td>2016</td>\n",
       "      <td>Forward</td>\n",
       "      <td>16.0</td>\n",
       "      <td>16.0000</td>\n",
       "      <td>28.10000</td>\n",
       "      <td>3.4</td>\n",
       "      <td>7.1</td>\n",
       "      <td>0.478</td>\n",
       "      <td>3.3</td>\n",
       "      <td>7.0</td>\n",
       "      <td>...</td>\n",
       "      <td>59</td>\n",
       "      <td>0.426</td>\n",
       "      <td>0.306000</td>\n",
       "      <td>0.548</td>\n",
       "      <td>3.3</td>\n",
       "      <td>1.9</td>\n",
       "      <td>0.3</td>\n",
       "      <td>0.508475</td>\n",
       "      <td>0.322034</td>\n",
       "      <td>0.338983</td>\n",
       "    </tr>\n",
       "    <tr>\n",
       "      <th>Drew Gordon</th>\n",
       "      <td>2015</td>\n",
       "      <td>Forward</td>\n",
       "      <td>61.0</td>\n",
       "      <td>53.0000</td>\n",
       "      <td>29.60000</td>\n",
       "      <td>5.3</td>\n",
       "      <td>10.0</td>\n",
       "      <td>0.535</td>\n",
       "      <td>5.3</td>\n",
       "      <td>10.0</td>\n",
       "      <td>...</td>\n",
       "      <td>9</td>\n",
       "      <td>0.421</td>\n",
       "      <td>0.000000</td>\n",
       "      <td>0.500</td>\n",
       "      <td>1.9</td>\n",
       "      <td>2.0</td>\n",
       "      <td>0.2</td>\n",
       "      <td>0.111111</td>\n",
       "      <td>0.000000</td>\n",
       "      <td>0.888889</td>\n",
       "    </tr>\n",
       "    <tr>\n",
       "      <th>Tyler Johnson</th>\n",
       "      <td>2015</td>\n",
       "      <td>Guard</td>\n",
       "      <td>5.0</td>\n",
       "      <td>69.2525</td>\n",
       "      <td>27.27375</td>\n",
       "      <td>0.2</td>\n",
       "      <td>0.6</td>\n",
       "      <td>0.333</td>\n",
       "      <td>0.0</td>\n",
       "      <td>0.4</td>\n",
       "      <td>...</td>\n",
       "      <td>270</td>\n",
       "      <td>0.433</td>\n",
       "      <td>0.364000</td>\n",
       "      <td>0.771</td>\n",
       "      <td>11.0</td>\n",
       "      <td>3.3</td>\n",
       "      <td>2.5</td>\n",
       "      <td>0.944444</td>\n",
       "      <td>0.474074</td>\n",
       "      <td>1.203704</td>\n",
       "    </tr>\n",
       "    <tr>\n",
       "      <th>Jeff Withey</th>\n",
       "      <td>2014</td>\n",
       "      <td>Center</td>\n",
       "      <td>117.0</td>\n",
       "      <td>76.0000</td>\n",
       "      <td>19.80000</td>\n",
       "      <td>2.8</td>\n",
       "      <td>4.9</td>\n",
       "      <td>0.568</td>\n",
       "      <td>2.8</td>\n",
       "      <td>4.9</td>\n",
       "      <td>...</td>\n",
       "      <td>206</td>\n",
       "      <td>0.525</td>\n",
       "      <td>0.143000</td>\n",
       "      <td>0.716</td>\n",
       "      <td>3.2</td>\n",
       "      <td>2.5</td>\n",
       "      <td>0.3</td>\n",
       "      <td>0.271845</td>\n",
       "      <td>0.757282</td>\n",
       "      <td>0.368932</td>\n",
       "    </tr>\n",
       "  </tbody>\n",
       "</table>\n",
       "<p>5 rows × 39 columns</p>\n",
       "</div>"
      ],
      "text/plain": [
       "                  year Position      G       GS        MP   FG   FGA    FGP  \\\n",
       "Player                                                                        \n",
       "Marshall Plumlee  2017   Center  124.0  36.0000  14.30000  1.3   1.9  0.665   \n",
       "Chris McCullough  2016  Forward   16.0  16.0000  28.10000  3.4   7.1  0.478   \n",
       "Drew Gordon       2015  Forward   61.0  53.0000  29.60000  5.3  10.0  0.535   \n",
       "Tyler Johnson     2015    Guard    5.0  69.2525  27.27375  0.2   0.6  0.333   \n",
       "Jeff Withey       2014   Center  117.0  76.0000  19.80000  2.8   4.9  0.568   \n",
       "\n",
       "                   2P   2PA    ...     NBA_G  NBA_FGP   NBA_3PP  NBA_FTP  \\\n",
       "Player                         ...                                         \n",
       "Marshall Plumlee  1.2   1.9    ...        29    0.515  0.283958    0.571   \n",
       "Chris McCullough  3.3   7.0    ...        59    0.426  0.306000    0.548   \n",
       "Drew Gordon       5.3  10.0    ...         9    0.421  0.000000    0.500   \n",
       "Tyler Johnson     0.0   0.4    ...       270    0.433  0.364000    0.771   \n",
       "Jeff Withey       2.8   4.9    ...       206    0.525  0.143000    0.716   \n",
       "\n",
       "                  NBA_PTS  NBA_TRB  NBA_AST   NBA_STL   NBA_BLK   NBA_TOV  \n",
       "Player                                                                     \n",
       "Marshall Plumlee      1.9      2.3      0.4  0.137931  0.172414  0.517241  \n",
       "Chris McCullough      3.3      1.9      0.3  0.508475  0.322034  0.338983  \n",
       "Drew Gordon           1.9      2.0      0.2  0.111111  0.000000  0.888889  \n",
       "Tyler Johnson        11.0      3.3      2.5  0.944444  0.474074  1.203704  \n",
       "Jeff Withey           3.2      2.5      0.3  0.271845  0.757282  0.368932  \n",
       "\n",
       "[5 rows x 39 columns]"
      ]
     },
     "execution_count": 3,
     "metadata": {},
     "output_type": "execute_result"
    }
   ],
   "source": [
    "#Import dataset \n",
    "file = '//Users//chung-tsengwang//Desktop//Github Repo//Predicting-NBA-Rookie-Stats//data//processed//final.csv'\n",
    "#file = 'C:\\\\Users\\\\Chung-Tseng Wang\\\\Desktop\\\\NBA-Rookie-Stat-Predictions\\\\data\\\\processed\\\\combined_processed_college.csv'\n",
    "college = pd.read_csv(file)\n",
    "college = college[['year', 'Player','Position','G', 'GS', 'MP','FG', 'FGA',\n",
    "       'FGP','2P','2PA', '2PP', '3P', '3PA', '3P%','FT', 'FTA', 'FTP','ORB', 'DRB','TRB','AST','STL','BLK'\n",
    "        ,'TOV','PTS', 'SOS','PER','eFGP','WS','NBA_G','NBA_FGP','NBA_3PP','NBA_FTP','NBA_PTS','NBA_TRB','NBA_AST','NBA_STL','NBA_BLK','NBA_TOV']]\n",
    "college = college.set_index(['Player'])\n",
    "college.head()"
   ]
  },
  {
   "cell_type": "code",
   "execution_count": null,
   "metadata": {
    "collapsed": true
   },
   "outputs": [],
   "source": []
  },
  {
   "cell_type": "code",
   "execution_count": 4,
   "metadata": {},
   "outputs": [
    {
     "data": {
      "image/png": "[encoded data removed]",
      "text/plain": [
       "<Figure size 792x648 with 2 Axes>"
      ]
     },
     "metadata": {},
     "output_type": "display_data"
    }
   ],
   "source": [
    "sns.set(style=\"dark\")\n",
    "corr = college.corr()\n",
    "mask = np.zeros_like(corr, dtype=np.bool)\n",
    "mask[np.triu_indices_from(mask)] = True\n",
    "f, ax = plt.subplots(figsize=(11, 9))\n",
    "cmap = sns.diverging_palette(240, 10, as_cmap=True)\n",
    "sns.heatmap(corr, mask=mask, cmap=cmap, vmax=.3, center=0, square=True,linewidths=.5, cbar_kws={\"shrink\": .5})\n",
    "plt.show()"
   ]
  },
  {
   "cell_type": "markdown",
   "metadata": {},
   "source": [
    "## Feature Selection"
   ]
  },
  {
   "cell_type": "code",
   "execution_count": null,
   "metadata": {
    "collapsed": true
   },
   "outputs": [],
   "source": [
    "from sklearn.feature_selection import RFE\n",
    "from sklearn.linear_model import LinearRegression\n",
    "model = LinearRegression()\n",
    "rfe = RFE(model, 27)\n",
    "reg = rfe.fit(train_x.values, train_y.NBAPTS.values)\n",
    "print(reg.support_)\n",
    "print(reg.ranking_)"
   ]
  },
  {
   "cell_type": "code",
   "execution_count": null,
   "metadata": {
    "collapsed": true
   },
   "outputs": [],
   "source": []
  },
  {
   "cell_type": "code",
   "execution_count": null,
   "metadata": {
    "collapsed": true
   },
   "outputs": [],
   "source": []
  },
  {
   "cell_type": "code",
   "execution_count": null,
   "metadata": {
    "collapsed": true
   },
   "outputs": [],
   "source": []
  },
  {
   "cell_type": "code",
   "execution_count": null,
   "metadata": {
    "collapsed": true
   },
   "outputs": [],
   "source": []
  },
  {
   "cell_type": "code",
   "execution_count": null,
   "metadata": {
    "collapsed": true
   },
   "outputs": [],
   "source": []
  },
  {
   "cell_type": "code",
   "execution_count": null,
   "metadata": {
    "collapsed": true
   },
   "outputs": [],
   "source": []
  },
  {
   "cell_type": "code",
   "execution_count": null,
   "metadata": {
    "collapsed": true
   },
   "outputs": [],
   "source": []
  },
  {
   "cell_type": "code",
   "execution_count": null,
   "metadata": {
    "collapsed": true
   },
   "outputs": [],
   "source": []
  },
  {
   "cell_type": "code",
   "execution_count": null,
   "metadata": {
    "collapsed": true
   },
   "outputs": [],
   "source": []
  },
  {
   "cell_type": "code",
   "execution_count": null,
   "metadata": {
    "collapsed": true
   },
   "outputs": [],
   "source": []
  }
 ],
 "metadata": {
  "kernelspec": {
   "display_name": "Python 3",
   "language": "python",
   "name": "python3"
  },
  "language_info": {
   "codemirror_mode": {
    "name": "ipython",
    "version": 3
   },
   "file_extension": ".py",
   "mimetype": "text/x-python",
   "name": "python",
   "nbconvert_exporter": "python",
   "pygments_lexer": "ipython3",
   "version": "3.6.3"
  }
 },
 "nbformat": 4,
 "nbformat_minor": 2
}
